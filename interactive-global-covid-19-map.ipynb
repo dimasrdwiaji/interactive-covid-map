{
 "cells": [
  {
   "cell_type": "markdown",
   "id": "e60203e6",
   "metadata": {
    "papermill": {
     "duration": 0.020308,
     "end_time": "2022-08-10T06:33:49.426643",
     "exception": false,
     "start_time": "2022-08-10T06:33:49.406335",
     "status": "completed"
    },
    "tags": []
   },
   "source": [
    "# **How to Create Interactive Covid-19 Map in Python Using Pandas and Plotly**"
   ]
  },
  {
   "cell_type": "markdown",
   "id": "e0b9e85c",
   "metadata": {
    "papermill": {
     "duration": 0.018123,
     "end_time": "2022-08-10T06:33:49.465061",
     "exception": false,
     "start_time": "2022-08-10T06:33:49.446938",
     "status": "completed"
    },
    "tags": []
   },
   "source": [
    "As Covid-19 is still a critical world issue, logistic distribution, transportation safety, education and various other sector is disrupted. To support decision making that consider Covid-19, data representing cases of covid and its location is beneficial. A powerful way of visualizing the aforementioned data is by utilizing map. In this case, the code below provide steps to create static and interactive daily time-series map of confirmed cases, recovered cases, and death tolls of Covid-19.\n",
    "\n",
    "***Additional Notes***\n",
    "\n",
    "Critics and suggestions is very appreciated."
   ]
  },
  {
   "cell_type": "markdown",
   "id": "bc1cb2ed",
   "metadata": {
    "papermill": {
     "duration": 0.018263,
     "end_time": "2022-08-10T06:33:49.501903",
     "exception": false,
     "start_time": "2022-08-10T06:33:49.483640",
     "status": "completed"
    },
    "tags": []
   },
   "source": [
    "# Import Required Libraries\n",
    "Libraries used in this codes are:\n",
    "* Pandas to manipulate create and manipulate dataframe\n",
    "* Plotly to visualize dataframa"
   ]
  },
  {
   "cell_type": "code",
   "execution_count": null,
   "id": "4f154235",
   "metadata": {
    "papermill": {
     "duration": 1.601423,
     "end_time": "2022-08-10T06:33:51.122105",
     "exception": false,
     "start_time": "2022-08-10T06:33:49.520682",
     "status": "completed"
    },
    "tags": []
   },
   "outputs": [],
   "source": [
    "import pandas as pd \n",
    "import plotly as py\n",
    "import plotly.express as px\n",
    "import plotly.graph_objs as go\n",
    "from shapely.geometry import Point, LineString, Polygon\n",
    "from plotly.subplots import make_subplots\n",
    "from plotly.offline import download_plotlyjs, init_notebook_mode, plot, iplot\n",
    "init_notebook_mode(connected=True)"
   ]
  },
  {
   "cell_type": "markdown",
   "id": "51367d95",
   "metadata": {
    "papermill": {
     "duration": 0.018735,
     "end_time": "2022-08-10T06:33:51.160258",
     "exception": false,
     "start_time": "2022-08-10T06:33:51.141523",
     "status": "completed"
    },
    "tags": []
   },
   "source": [
    "# Retreiving Global Daily Covid-19 Data\n",
    "Raw data on daily confirmed cases, recovered cases and death toll for all countries is obtained from [COVID-19 Data Repository by the Center for Systems Science and Engineering (CSSE) at Johns Hopkins University](https://github.com/CSSEGISandData/COVID-19)."
   ]
  },
  {
   "cell_type": "code",
   "execution_count": null,
   "id": "92bcfbae",
   "metadata": {
    "papermill": {
     "duration": 0.026374,
     "end_time": "2022-08-10T06:33:51.205574",
     "exception": false,
     "start_time": "2022-08-10T06:33:51.179200",
     "status": "completed"
    },
    "tags": []
   },
   "outputs": [],
   "source": [
    "fp_confirmed = 'https://raw.githubusercontent.com/CSSEGISandData/COVID-19/master/csse_covid_19_data/csse_covid_19_time_series/time_series_covid19_confirmed_global.csv'\n",
    "fp_recovered = 'https://raw.githubusercontent.com/CSSEGISandData/COVID-19/master/csse_covid_19_data/csse_covid_19_time_series/time_series_covid19_recovered_global.csv'\n",
    "fp_death = 'https://raw.githubusercontent.com/CSSEGISandData/COVID-19/master/csse_covid_19_data/csse_covid_19_time_series/time_series_covid19_deaths_global.csv'"
   ]
  },
  {
   "cell_type": "markdown",
   "id": "ce1fdcf3",
   "metadata": {
    "papermill": {
     "duration": 0.018522,
     "end_time": "2022-08-10T06:33:51.243110",
     "exception": false,
     "start_time": "2022-08-10T06:33:51.224588",
     "status": "completed"
    },
    "tags": []
   },
   "source": [
    "Read raw data using pandas"
   ]
  },
  {
   "cell_type": "code",
   "execution_count": null,
   "id": "ac911936",
   "metadata": {
    "papermill": {
     "duration": 0.643277,
     "end_time": "2022-08-10T06:33:51.905352",
     "exception": false,
     "start_time": "2022-08-10T06:33:51.262075",
     "status": "completed"
    },
    "tags": []
   },
   "outputs": [],
   "source": [
    "# Read data\n",
    "skip_col = 'Province/State'\n",
    "confirmed = pd.read_csv(fp_confirmed, usecols=lambda x: x not in skip_col)\n",
    "recovered = pd.read_csv(fp_recovered, usecols=lambda x: x not in skip_col)\n",
    "death = pd.read_csv(fp_death, usecols=lambda x: x not in skip_col)"
   ]
  },
  {
   "cell_type": "markdown",
   "id": "af9f82c1",
   "metadata": {
    "papermill": {
     "duration": 0.018911,
     "end_time": "2022-08-10T06:33:51.944457",
     "exception": false,
     "start_time": "2022-08-10T06:33:51.925546",
     "status": "completed"
    },
    "tags": []
   },
   "source": [
    "Rename column and create column containing the total confirmed cases, recovered cases and death toll for all countries."
   ]
  },
  {
   "cell_type": "code",
   "execution_count": null,
   "id": "72a7f459",
   "metadata": {
    "papermill": {
     "duration": 0.02892,
     "end_time": "2022-08-10T06:33:51.992406",
     "exception": false,
     "start_time": "2022-08-10T06:33:51.963486",
     "status": "completed"
    },
    "tags": []
   },
   "outputs": [],
   "source": [
    "df_list = [confirmed, recovered, death]\n",
    "\n",
    "# Rename columns\n",
    "def rename_cols(x):\n",
    "    for i in x:\n",
    "        i = i.rename(columns={'Country/Region':'Country'}, inplace=True)\n",
    "\n",
    "# Total confirmed/recovered/death case\n",
    "def total_case(x):\n",
    "    for i in x:\n",
    "        i['total'] = i.iloc[:,-1]"
   ]
  },
  {
   "cell_type": "code",
   "execution_count": null,
   "id": "077a3746",
   "metadata": {
    "papermill": {
     "duration": 0.034384,
     "end_time": "2022-08-10T06:33:52.046373",
     "exception": false,
     "start_time": "2022-08-10T06:33:52.011989",
     "status": "completed"
    },
    "tags": []
   },
   "outputs": [],
   "source": [
    "# Rename column\n",
    "rename_cols(df_list)"
   ]
  },
  {
   "cell_type": "code",
   "execution_count": null,
   "id": "d83fd208",
   "metadata": {
    "papermill": {
     "duration": 0.032358,
     "end_time": "2022-08-10T06:33:52.098379",
     "exception": false,
     "start_time": "2022-08-10T06:33:52.066021",
     "status": "completed"
    },
    "tags": []
   },
   "outputs": [],
   "source": [
    "total_case(df_list)"
   ]
  },
  {
   "cell_type": "code",
   "execution_count": null,
   "id": "6aa2623d",
   "metadata": {
    "papermill": {
     "duration": 0.097201,
     "end_time": "2022-08-10T06:33:52.214845",
     "exception": false,
     "start_time": "2022-08-10T06:33:52.117644",
     "status": "completed"
    },
    "tags": []
   },
   "outputs": [],
   "source": [
    "# Group by countries\n",
    "conf_countries = confirmed.groupby('Country').sum().reset_index()\n",
    "reco_countries = recovered.groupby('Country').sum().reset_index()\n",
    "death_countries = death.groupby('Country').sum().reset_index()"
   ]
  },
  {
   "cell_type": "code",
   "execution_count": null,
   "id": "05fa3e99",
   "metadata": {
    "papermill": {
     "duration": 0.234793,
     "end_time": "2022-08-10T06:33:52.468697",
     "exception": false,
     "start_time": "2022-08-10T06:33:52.233904",
     "status": "completed"
    },
    "tags": []
   },
   "outputs": [],
   "source": [
    "# Delete duplicate\n",
    "list_case = [conf_countries, reco_countries, death_countries]\n",
    "for i in list_case:\n",
    "    i = i.drop_duplicates(subset=['Country'])"
   ]
  },
  {
   "cell_type": "markdown",
   "id": "4fe7a962",
   "metadata": {
    "papermill": {
     "duration": 0.018916,
     "end_time": "2022-08-10T06:33:52.507401",
     "exception": false,
     "start_time": "2022-08-10T06:33:52.488485",
     "status": "completed"
    },
    "tags": []
   },
   "source": [
    "# Create Static Map Visualizing Total Confirmed Case\n",
    "The code below shows steps to create map of total confirmed case for all countries. Codes can be modified to show total recovered cases or total death toll for all countries."
   ]
  },
  {
   "cell_type": "code",
   "execution_count": null,
   "id": "48383264",
   "metadata": {
    "papermill": {
     "duration": 0.162099,
     "end_time": "2022-08-10T06:33:52.688659",
     "exception": false,
     "start_time": "2022-08-10T06:33:52.526560",
     "status": "completed"
    },
    "tags": []
   },
   "outputs": [],
   "source": [
    "# Create Confirmed Case Choropleth\n",
    "fig = go.Figure(data=go.Choropleth(\n",
    "    locations = confirmed['Country'],\n",
    "    locationmode = 'country names',\n",
    "    z = confirmed.iloc[:,-1],\n",
    "    colorscale = 'Reds',\n",
    "    marker_line_color = 'black',\n",
    "    marker_line_width = 0.5,\n",
    "))\n",
    "fig.update_layout(\n",
    "    title_text = 'Total Confirmed Cases',\n",
    "    title_x = 0.5,\n",
    "    margin=dict(l=30, r=30, t=30, b=30),\n",
    "    geo=dict(\n",
    "        showframe = False,\n",
    "        showcoastlines = False,\n",
    "        projection_type = 'equirectangular'\n",
    "    )\n",
    ")"
   ]
  },
  {
   "cell_type": "markdown",
   "id": "8bf11987",
   "metadata": {
    "papermill": {
     "duration": 0.025973,
     "end_time": "2022-08-10T06:33:52.740846",
     "exception": false,
     "start_time": "2022-08-10T06:33:52.714873",
     "status": "completed"
    },
    "tags": []
   },
   "source": [
    "# Create Interactive Map\n",
    "The code below shows steps to create interactive daily time series of confirmed cases, recovered cases, and death toll for all countries."
   ]
  },
  {
   "cell_type": "code",
   "execution_count": null,
   "id": "7ca897d4",
   "metadata": {
    "papermill": {
     "duration": 0.123614,
     "end_time": "2022-08-10T06:33:52.890535",
     "exception": false,
     "start_time": "2022-08-10T06:33:52.766921",
     "status": "completed"
    },
    "tags": []
   },
   "outputs": [],
   "source": [
    "# Transpose part of data to create time series animation\n",
    "confirmed_melt = conf_countries.melt(['Country', 'Lat', 'Long'], var_name='Date', value_name='Confirmed')\n",
    "recovered_melt = reco_countries.melt(['Country', 'Lat', 'Long'], var_name='Date', value_name='Recovered')\n",
    "death_melt = death_countries.melt(['Country', 'Lat', 'Long'], var_name='Date', value_name='Death')\n",
    "\n",
    "# Remove no-data entries\n",
    "confirmed_melt = confirmed_melt.loc[confirmed_melt['Confirmed'] > 0]\n",
    "recovered_melt = recovered_melt.loc[recovered_melt['Recovered'] > 0]\n",
    "death_melt = death_melt.loc[death_melt['Death'] > 0]"
   ]
  },
  {
   "cell_type": "code",
   "execution_count": null,
   "id": "a18ee680",
   "metadata": {
    "papermill": {
     "duration": 0.035545,
     "end_time": "2022-08-10T06:33:52.952476",
     "exception": false,
     "start_time": "2022-08-10T06:33:52.916931",
     "status": "completed"
    },
    "tags": []
   },
   "outputs": [],
   "source": [
    "# Create Interactive Map\n",
    "def case_map(x):\n",
    "    fig = px.choropleth(x, \n",
    "                    locations=\"Country\", \n",
    "                    locationmode = \"country names\",\n",
    "                    color=x.columns[-1], \n",
    "                    hover_name=\"Country\", \n",
    "                    animation_frame=\"Date\"\n",
    "                   )\n",
    "    fig.update_layout(\n",
    "    title_text = 'Global '+x.columns[-1]+' Case of Corovavirus',\n",
    "    title_x = 0.5,\n",
    "    margin=dict(l=10, r=10, t=100, b=100),\n",
    "    width = 750,\n",
    "    height = 500,\n",
    "    geo=dict(\n",
    "        showframe = False,\n",
    "        showcoastlines = False,\n",
    "    ))\n",
    "    fig.show()"
   ]
  },
  {
   "cell_type": "code",
   "execution_count": null,
   "id": "b8f99744",
   "metadata": {
    "papermill": {
     "duration": 6.856613,
     "end_time": "2022-08-10T06:33:59.835218",
     "exception": false,
     "start_time": "2022-08-10T06:33:52.978605",
     "status": "completed"
    },
    "tags": []
   },
   "outputs": [],
   "source": [
    "case_map(confirmed_melt)"
   ]
  },
  {
   "cell_type": "code",
   "execution_count": null,
   "id": "ac84f0dc",
   "metadata": {
    "papermill": {
     "duration": 4.897364,
     "end_time": "2022-08-10T06:34:06.186543",
     "exception": false,
     "start_time": "2022-08-10T06:34:01.289179",
     "status": "completed"
    },
    "tags": []
   },
   "outputs": [],
   "source": [
    "case_map(recovered_melt)"
   ]
  },
  {
   "cell_type": "code",
   "execution_count": null,
   "id": "f13d7177",
   "metadata": {
    "papermill": {
     "duration": 7.777589,
     "end_time": "2022-08-10T06:34:16.216704",
     "exception": false,
     "start_time": "2022-08-10T06:34:08.439115",
     "status": "completed"
    },
    "tags": []
   },
   "outputs": [],
   "source": [
    "case_map(death_melt)"
   ]
  }
 ],
 "metadata": {
  "kernelspec": {
   "display_name": "Python 3",
   "language": "python",
   "name": "python3"
  },
  "language_info": {
   "codemirror_mode": {
    "name": "ipython",
    "version": 3
   },
   "file_extension": ".py",
   "mimetype": "text/x-python",
   "name": "python",
   "nbconvert_exporter": "python",
   "pygments_lexer": "ipython3",
   "version": "3.9.4"
  },
  "papermill": {
   "default_parameters": {},
   "duration": 41.045959,
   "end_time": "2022-08-10T06:34:20.720573",
   "environment_variables": {},
   "exception": null,
   "input_path": "__notebook__.ipynb",
   "output_path": "__notebook__.ipynb",
   "parameters": {},
   "start_time": "2022-08-10T06:33:39.674614",
   "version": "2.3.3"
  }
 },
 "nbformat": 4,
 "nbformat_minor": 5
}
